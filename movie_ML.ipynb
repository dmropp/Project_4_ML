{
 "cells": [
  {
   "cell_type": "code",
   "execution_count": 27,
   "metadata": {},
   "outputs": [],
   "source": [
    "import sqlite3\n",
    "import pandas as pd\n",
    "from sklearn.feature_extraction.text import TfidfVectorizer\n",
    "from sklearn.metrics.pairwise import cosine_similarity\n",
    "from sklearn.neighbors import NearestNeighbors\n",
    "import numpy as np"
   ]
  },
  {
   "cell_type": "code",
   "execution_count": 28,
   "metadata": {},
   "outputs": [],
   "source": [
    "# Connect to the SQLite database\n",
    "conn = sqlite3.connect('movie_ratings_db.sqlite')"
   ]
  },
  {
   "cell_type": "code",
   "execution_count": 29,
   "metadata": {},
   "outputs": [],
   "source": [
    "# Query the data from the ratings table and join with the movies table\n",
    "query = \"\"\"\n",
    "    SELECT r.userId, r.movieId, r.rating, m.title, m.genres\n",
    "    FROM ratings r\n",
    "    JOIN movies m ON r.movieId = m.movieId\n",
    "\"\"\"\n",
    "df = pd.read_sql_query(query, conn)"
   ]
  },
  {
   "cell_type": "code",
   "execution_count": 30,
   "metadata": {},
   "outputs": [
    {
     "name": "stdout",
     "output_type": "stream",
     "text": [
      "   userId  movieId  rating                        title  \\\n",
      "0       1        1     4.0             Toy Story (1995)   \n",
      "1       1        3     4.0      Grumpier Old Men (1995)   \n",
      "2       1        6     4.0                  Heat (1995)   \n",
      "3       1       47     5.0  Seven (a.k.a. Se7en) (1995)   \n",
      "4       1       50     5.0   Usual Suspects, The (1995)   \n",
      "\n",
      "                                              genres  \n",
      "0  [Adventure, Animation, Children, Comedy, Fantasy]  \n",
      "1                                  [Comedy, Romance]  \n",
      "2                          [Action, Crime, Thriller]  \n",
      "3                                [Mystery, Thriller]  \n",
      "4                         [Crime, Mystery, Thriller]  \n"
     ]
    }
   ],
   "source": [
    "# Assuming the genres column is in the format \"Genre1|Genre2|Genre3\"\n",
    "# Convert genres into a list\n",
    "df['genres'] = df['genres'].str.split('|')\n",
    "\n",
    "# Display the processed dataframe\n",
    "print(df.head())\n"
   ]
  },
  {
   "cell_type": "code",
   "execution_count": 31,
   "metadata": {},
   "outputs": [],
   "source": [
    "# Content-Based Filtering (using Genres)\n",
    "df['genres_str'] = df['genres'].apply(lambda x: ' '.join(x))\n",
    "tfidf_vectorizer = TfidfVectorizer(stop_words='english')\n",
    "tfidf_matrix = tfidf_vectorizer.fit_transform(df['genres_str'])"
   ]
  },
  {
   "cell_type": "code",
   "execution_count": 32,
   "metadata": {},
   "outputs": [
    {
     "data": {
      "text/html": [
       "<style>#sk-container-id-2 {color: black;}#sk-container-id-2 pre{padding: 0;}#sk-container-id-2 div.sk-toggleable {background-color: white;}#sk-container-id-2 label.sk-toggleable__label {cursor: pointer;display: block;width: 100%;margin-bottom: 0;padding: 0.3em;box-sizing: border-box;text-align: center;}#sk-container-id-2 label.sk-toggleable__label-arrow:before {content: \"▸\";float: left;margin-right: 0.25em;color: #696969;}#sk-container-id-2 label.sk-toggleable__label-arrow:hover:before {color: black;}#sk-container-id-2 div.sk-estimator:hover label.sk-toggleable__label-arrow:before {color: black;}#sk-container-id-2 div.sk-toggleable__content {max-height: 0;max-width: 0;overflow: hidden;text-align: left;background-color: #f0f8ff;}#sk-container-id-2 div.sk-toggleable__content pre {margin: 0.2em;color: black;border-radius: 0.25em;background-color: #f0f8ff;}#sk-container-id-2 input.sk-toggleable__control:checked~div.sk-toggleable__content {max-height: 200px;max-width: 100%;overflow: auto;}#sk-container-id-2 input.sk-toggleable__control:checked~label.sk-toggleable__label-arrow:before {content: \"▾\";}#sk-container-id-2 div.sk-estimator input.sk-toggleable__control:checked~label.sk-toggleable__label {background-color: #d4ebff;}#sk-container-id-2 div.sk-label input.sk-toggleable__control:checked~label.sk-toggleable__label {background-color: #d4ebff;}#sk-container-id-2 input.sk-hidden--visually {border: 0;clip: rect(1px 1px 1px 1px);clip: rect(1px, 1px, 1px, 1px);height: 1px;margin: -1px;overflow: hidden;padding: 0;position: absolute;width: 1px;}#sk-container-id-2 div.sk-estimator {font-family: monospace;background-color: #f0f8ff;border: 1px dotted black;border-radius: 0.25em;box-sizing: border-box;margin-bottom: 0.5em;}#sk-container-id-2 div.sk-estimator:hover {background-color: #d4ebff;}#sk-container-id-2 div.sk-parallel-item::after {content: \"\";width: 100%;border-bottom: 1px solid gray;flex-grow: 1;}#sk-container-id-2 div.sk-label:hover label.sk-toggleable__label {background-color: #d4ebff;}#sk-container-id-2 div.sk-serial::before {content: \"\";position: absolute;border-left: 1px solid gray;box-sizing: border-box;top: 0;bottom: 0;left: 50%;z-index: 0;}#sk-container-id-2 div.sk-serial {display: flex;flex-direction: column;align-items: center;background-color: white;padding-right: 0.2em;padding-left: 0.2em;position: relative;}#sk-container-id-2 div.sk-item {position: relative;z-index: 1;}#sk-container-id-2 div.sk-parallel {display: flex;align-items: stretch;justify-content: center;background-color: white;position: relative;}#sk-container-id-2 div.sk-item::before, #sk-container-id-2 div.sk-parallel-item::before {content: \"\";position: absolute;border-left: 1px solid gray;box-sizing: border-box;top: 0;bottom: 0;left: 50%;z-index: -1;}#sk-container-id-2 div.sk-parallel-item {display: flex;flex-direction: column;z-index: 1;position: relative;background-color: white;}#sk-container-id-2 div.sk-parallel-item:first-child::after {align-self: flex-end;width: 50%;}#sk-container-id-2 div.sk-parallel-item:last-child::after {align-self: flex-start;width: 50%;}#sk-container-id-2 div.sk-parallel-item:only-child::after {width: 0;}#sk-container-id-2 div.sk-dashed-wrapped {border: 1px dashed gray;margin: 0 0.4em 0.5em 0.4em;box-sizing: border-box;padding-bottom: 0.4em;background-color: white;}#sk-container-id-2 div.sk-label label {font-family: monospace;font-weight: bold;display: inline-block;line-height: 1.2em;}#sk-container-id-2 div.sk-label-container {text-align: center;}#sk-container-id-2 div.sk-container {/* jupyter's `normalize.less` sets `[hidden] { display: none; }` but bootstrap.min.css set `[hidden] { display: none !important; }` so we also need the `!important` here to be able to override the default hidden behavior on the sphinx rendered scikit-learn.org. See: https://github.com/scikit-learn/scikit-learn/issues/21755 */display: inline-block !important;position: relative;}#sk-container-id-2 div.sk-text-repr-fallback {display: none;}</style><div id=\"sk-container-id-2\" class=\"sk-top-container\"><div class=\"sk-text-repr-fallback\"><pre>NearestNeighbors(metric=&#x27;cosine&#x27;)</pre><b>In a Jupyter environment, please rerun this cell to show the HTML representation or trust the notebook. <br />On GitHub, the HTML representation is unable to render, please try loading this page with nbviewer.org.</b></div><div class=\"sk-container\" hidden><div class=\"sk-item\"><div class=\"sk-estimator sk-toggleable\"><input class=\"sk-toggleable__control sk-hidden--visually\" id=\"sk-estimator-id-2\" type=\"checkbox\" checked><label for=\"sk-estimator-id-2\" class=\"sk-toggleable__label sk-toggleable__label-arrow\">NearestNeighbors</label><div class=\"sk-toggleable__content\"><pre>NearestNeighbors(metric=&#x27;cosine&#x27;)</pre></div></div></div></div></div>"
      ],
      "text/plain": [
       "NearestNeighbors(metric='cosine')"
      ]
     },
     "execution_count": 32,
     "metadata": {},
     "output_type": "execute_result"
    }
   ],
   "source": [
    "# Approximate Nearest Neighbors with NearestNeighbors\n",
    "nn = NearestNeighbors(n_neighbors=5, algorithm='auto', metric='cosine')\n",
    "nn.fit(tfidf_matrix)"
   ]
  },
  {
   "cell_type": "code",
   "execution_count": 33,
   "metadata": {},
   "outputs": [],
   "source": [
    "# Function to get similar items based on NearestNeighbors\n",
    "def get_similar_items_nn(movie_index):\n",
    "    distances, indices = nn.kneighbors(tfidf_matrix[movie_index])\n",
    "    similar_items = df.iloc[indices[0]]['title'].tolist()\n",
    "    return similar_items"
   ]
  },
  {
   "cell_type": "code",
   "execution_count": 34,
   "metadata": {},
   "outputs": [
    {
     "name": "stdout",
     "output_type": "stream",
     "text": [
      "Similar movies (Nearest Neighbors) for Toy Story (1995):\n",
      "['Toy Story 2 (1999)', 'Monsters, Inc. (2001)', 'Toy Story (1995)', 'Toy Story (1995)', 'Toy Story (1995)']\n"
     ]
    }
   ],
   "source": [
    "# Example: Get similar movies for a given movie index\n",
    "movie_index = 0  # Replace with the actual movie index\n",
    "similar_movies_nn = get_similar_items_nn(movie_index)\n",
    "print(f'Similar movies (Nearest Neighbors) for {df.iloc[movie_index][\"title\"]}:\\n{similar_movies_nn}')"
   ]
  },
  {
   "cell_type": "code",
   "execution_count": 35,
   "metadata": {},
   "outputs": [],
   "source": [
    "# Collaborative Filtering (User-Item Interactions)\n",
    "user_movie_ratings = df.pivot_table(index='userId', columns='title', values='rating')\n",
    "user_movie_ratings = user_movie_ratings.fillna(0)\n",
    "movie_user_ratings = user_movie_ratings.T\n",
    "movie_similarity = cosine_similarity(movie_user_ratings)\n"
   ]
  },
  {
   "cell_type": "code",
   "execution_count": 58,
   "metadata": {},
   "outputs": [],
   "source": [
    "# Function to get similar items based on Collaborative Filtering\n",
    "def get_similar_items_cf(movie_title, top_n=5):\n",
    "    movie_ratings = user_movie_ratings[movie_title]\n",
    "    \n",
    "    # Ensure the movie_ratings is a 2D array (column vector)\n",
    "    movie_ratings = movie_ratings.values.reshape(-1, 1)\n",
    "    \n",
    "    # Calculate similarity scores using a loop\n",
    "    similar_scores = [np.sum(movie_ratings.T * movie_similarity[:, i].reshape(-1, 1)) for i in range(movie_similarity.shape[0])]\n",
    "    \n",
    "    # Create a DataFrame with movie titles and similarity scores\n",
    "    similar_movies_df = pd.DataFrame({'movie': movie_user_ratings.index, 'similarity': similar_scores})\n",
    "    \n",
    "    # Sort by similarity and get the top N\n",
    "    similar_movies_df = similar_movies_df.sort_values(by='similarity', ascending=False).head(top_n)\n",
    "    \n",
    "    return similar_movies_df['movie'].tolist()\n",
    "\n"
   ]
  },
  {
   "cell_type": "code",
   "execution_count": 59,
   "metadata": {},
   "outputs": [],
   "source": [
    "# Function to get hybrid recommendations (combining CF and CB)\n",
    "def get_hybrid_recommendations(movie_title, top_n=5):\n",
    "    # Get similar movies using collaborative filtering\n",
    "    cf_recommendations = get_similar_items_cf(movie_title, top_n=top_n)\n",
    "    \n",
    "    # Get similar movies using content-based filtering with genre filter\n",
    "    movie_index = df[df['title'] == movie_title].index[0]\n",
    "    cb_recommendations = get_similar_items_nn(movie_index)\n",
    "    \n",
    "    # Filter content-based recommendations based on genre relevance\n",
    "    genre_filter = df[df['title'] == movie_title]['genres'].values[0]\n",
    "    cb_recommendations_filtered = [movie for movie in cb_recommendations if any(genre in df[df['title'] == movie]['genres'].values[0] for genre in genre_filter)]\n",
    "    \n",
    "    # Combine the recommendations from both methods\n",
    "    hybrid_recommendations = list(set(cf_recommendations + cb_recommendations_filtered))[:top_n]\n",
    "    \n",
    "    return hybrid_recommendations\n"
   ]
  },
  {
   "cell_type": "code",
   "execution_count": 60,
   "metadata": {},
   "outputs": [
    {
     "name": "stdout",
     "output_type": "stream",
     "text": [
      "Your recommendations based off Toy Story (1995):\n",
      "['Toy Story 2 (1999)', 'Monsters, Inc. (2001)', 'Earth Girls Are Easy (1988)', 'SpaceCamp (1986)', 'Woman in Red, The (1984)']\n"
     ]
    }
   ],
   "source": [
    "# Example: Get hybrid recommendations for a given movie title\n",
    "movie_title = \"Toy Story (1995)\"  # Replace with the actual movie title\n",
    "hybrid_recommendations = get_hybrid_recommendations(movie_title, top_n=5)\n",
    "print(f'Your recommendations based off {movie_title}:\\n{hybrid_recommendations}')\n"
   ]
  }
 ],
 "metadata": {
  "kernelspec": {
   "display_name": "Python 3",
   "language": "python",
   "name": "python3"
  },
  "language_info": {
   "codemirror_mode": {
    "name": "ipython",
    "version": 3
   },
   "file_extension": ".py",
   "mimetype": "text/x-python",
   "name": "python",
   "nbconvert_exporter": "python",
   "pygments_lexer": "ipython3",
   "version": "3.11.6"
  }
 },
 "nbformat": 4,
 "nbformat_minor": 2
}
