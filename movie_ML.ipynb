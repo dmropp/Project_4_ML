{
 "cells": [
  {
   "cell_type": "code",
   "execution_count": 2,
   "metadata": {},
   "outputs": [],
   "source": [
    "import sqlite3\n",
    "import pandas as pd\n",
    "from sklearn.feature_extraction.text import TfidfVectorizer\n",
    "from sklearn.metrics.pairwise import cosine_similarity\n",
    "from sklearn.neighbors import NearestNeighbors\n",
    "import numpy as np\n",
    "import random\n",
    "from joblib import Parallel, delayed\n",
    "from sklearn.metrics.pairwise import cosine_similarity"
   ]
  },
  {
   "cell_type": "code",
   "execution_count": 28,
   "metadata": {},
   "outputs": [],
   "source": [
    "# Connect to the SQLite database\n",
    "conn = sqlite3.connect('movie_ratings_db.sqlite')\n"
   ]
  },
  {
   "cell_type": "code",
   "execution_count": 29,
   "metadata": {},
   "outputs": [],
   "source": [
    "# Query a subset of the data to speed up development/testing\n",
    "# Adjust the LIMIT clause based on your dataset size\n",
    "query = \"\"\"\n",
    "    SELECT r.userId, r.movieId, r.rating, m.title, m.genres\n",
    "    FROM ratings r\n",
    "    JOIN movies m ON r.movieId = m.movieId\n",
    "    LIMIT 10000  -- Adjust this limit based on your dataset size\n",
    "\"\"\"\n",
    "df = pd.read_sql_query(query, conn)"
   ]
  },
  {
   "cell_type": "code",
   "execution_count": 30,
   "metadata": {},
   "outputs": [],
   "source": [
    "# Assuming the genres column is in the format \"Genre1|Genre2|Genre3\"\n",
    "# Convert genres into a list\n",
    "df['genres'] = df['genres'].str.split('|')\n"
   ]
  },
  {
   "cell_type": "code",
   "execution_count": 31,
   "metadata": {},
   "outputs": [],
   "source": [
    "# Content-Based Filtering (using Genres)\n",
    "df['genres_str'] = df['genres'].apply(lambda x: ' '.join(x))\n",
    "tfidf_vectorizer = TfidfVectorizer(stop_words='english', max_features=1000)  # Adjust max_features\n",
    "tfidf_matrix = tfidf_vectorizer.fit_transform(df['genres_str'])"
   ]
  },
  {
   "cell_type": "code",
   "execution_count": 51,
   "metadata": {},
   "outputs": [
    {
     "name": "stdout",
     "output_type": "stream",
     "text": [
      "Accuracy: 74.50%\n"
     ]
    }
   ],
   "source": [
    "from sklearn.metrics.pairwise import cosine_similarity\n",
    "\n",
    "# Assuming tfidf_matrix_train and tfidf_matrix_test are precomputed TF-IDF matrices\n",
    "\n",
    "# Calculate cosine similarity between test and train matrices\n",
    "similarity_matrix = cosine_similarity(tfidf_matrix_test, tfidf_matrix_train)\n",
    "\n",
    "# Number of top recommendations to consider\n",
    "top_n = 100\n",
    "\n",
    "# Evaluate recommendations and compute accuracy\n",
    "correct_predictions = 0\n",
    "total_test_items = similarity_matrix.shape[0]\n",
    "\n",
    "for test_item_index in range(total_test_items):\n",
    "    similar_items_indices = similarity_matrix[test_item_index].argsort()[:-top_n-1:-1]\n",
    "    actual_preference = test_data.iloc[test_item_index]['title']\n",
    "    recommended_movies = train_data.iloc[similar_items_indices]['title'].tolist()\n",
    "    if actual_preference in recommended_movies:\n",
    "        correct_predictions += 1\n",
    "\n",
    "\n",
    "accuracy_percentage = (correct_predictions / total_test_items) * 100\n",
    "print(f\"Accuracy: {accuracy_percentage:.2f}%\")\n"
   ]
  },
  {
   "cell_type": "code",
   "execution_count": 11,
   "metadata": {},
   "outputs": [
    {
     "data": {
      "text/html": [
       "<style>#sk-container-id-2 {color: black;}#sk-container-id-2 pre{padding: 0;}#sk-container-id-2 div.sk-toggleable {background-color: white;}#sk-container-id-2 label.sk-toggleable__label {cursor: pointer;display: block;width: 100%;margin-bottom: 0;padding: 0.3em;box-sizing: border-box;text-align: center;}#sk-container-id-2 label.sk-toggleable__label-arrow:before {content: \"▸\";float: left;margin-right: 0.25em;color: #696969;}#sk-container-id-2 label.sk-toggleable__label-arrow:hover:before {color: black;}#sk-container-id-2 div.sk-estimator:hover label.sk-toggleable__label-arrow:before {color: black;}#sk-container-id-2 div.sk-toggleable__content {max-height: 0;max-width: 0;overflow: hidden;text-align: left;background-color: #f0f8ff;}#sk-container-id-2 div.sk-toggleable__content pre {margin: 0.2em;color: black;border-radius: 0.25em;background-color: #f0f8ff;}#sk-container-id-2 input.sk-toggleable__control:checked~div.sk-toggleable__content {max-height: 200px;max-width: 100%;overflow: auto;}#sk-container-id-2 input.sk-toggleable__control:checked~label.sk-toggleable__label-arrow:before {content: \"▾\";}#sk-container-id-2 div.sk-estimator input.sk-toggleable__control:checked~label.sk-toggleable__label {background-color: #d4ebff;}#sk-container-id-2 div.sk-label input.sk-toggleable__control:checked~label.sk-toggleable__label {background-color: #d4ebff;}#sk-container-id-2 input.sk-hidden--visually {border: 0;clip: rect(1px 1px 1px 1px);clip: rect(1px, 1px, 1px, 1px);height: 1px;margin: -1px;overflow: hidden;padding: 0;position: absolute;width: 1px;}#sk-container-id-2 div.sk-estimator {font-family: monospace;background-color: #f0f8ff;border: 1px dotted black;border-radius: 0.25em;box-sizing: border-box;margin-bottom: 0.5em;}#sk-container-id-2 div.sk-estimator:hover {background-color: #d4ebff;}#sk-container-id-2 div.sk-parallel-item::after {content: \"\";width: 100%;border-bottom: 1px solid gray;flex-grow: 1;}#sk-container-id-2 div.sk-label:hover label.sk-toggleable__label {background-color: #d4ebff;}#sk-container-id-2 div.sk-serial::before {content: \"\";position: absolute;border-left: 1px solid gray;box-sizing: border-box;top: 0;bottom: 0;left: 50%;z-index: 0;}#sk-container-id-2 div.sk-serial {display: flex;flex-direction: column;align-items: center;background-color: white;padding-right: 0.2em;padding-left: 0.2em;position: relative;}#sk-container-id-2 div.sk-item {position: relative;z-index: 1;}#sk-container-id-2 div.sk-parallel {display: flex;align-items: stretch;justify-content: center;background-color: white;position: relative;}#sk-container-id-2 div.sk-item::before, #sk-container-id-2 div.sk-parallel-item::before {content: \"\";position: absolute;border-left: 1px solid gray;box-sizing: border-box;top: 0;bottom: 0;left: 50%;z-index: -1;}#sk-container-id-2 div.sk-parallel-item {display: flex;flex-direction: column;z-index: 1;position: relative;background-color: white;}#sk-container-id-2 div.sk-parallel-item:first-child::after {align-self: flex-end;width: 50%;}#sk-container-id-2 div.sk-parallel-item:last-child::after {align-self: flex-start;width: 50%;}#sk-container-id-2 div.sk-parallel-item:only-child::after {width: 0;}#sk-container-id-2 div.sk-dashed-wrapped {border: 1px dashed gray;margin: 0 0.4em 0.5em 0.4em;box-sizing: border-box;padding-bottom: 0.4em;background-color: white;}#sk-container-id-2 div.sk-label label {font-family: monospace;font-weight: bold;display: inline-block;line-height: 1.2em;}#sk-container-id-2 div.sk-label-container {text-align: center;}#sk-container-id-2 div.sk-container {/* jupyter's `normalize.less` sets `[hidden] { display: none; }` but bootstrap.min.css set `[hidden] { display: none !important; }` so we also need the `!important` here to be able to override the default hidden behavior on the sphinx rendered scikit-learn.org. See: https://github.com/scikit-learn/scikit-learn/issues/21755 */display: inline-block !important;position: relative;}#sk-container-id-2 div.sk-text-repr-fallback {display: none;}</style><div id=\"sk-container-id-2\" class=\"sk-top-container\"><div class=\"sk-text-repr-fallback\"><pre>NearestNeighbors(metric=&#x27;cosine&#x27;)</pre><b>In a Jupyter environment, please rerun this cell to show the HTML representation or trust the notebook. <br />On GitHub, the HTML representation is unable to render, please try loading this page with nbviewer.org.</b></div><div class=\"sk-container\" hidden><div class=\"sk-item\"><div class=\"sk-estimator sk-toggleable\"><input class=\"sk-toggleable__control sk-hidden--visually\" id=\"sk-estimator-id-2\" type=\"checkbox\" checked><label for=\"sk-estimator-id-2\" class=\"sk-toggleable__label sk-toggleable__label-arrow\">NearestNeighbors</label><div class=\"sk-toggleable__content\"><pre>NearestNeighbors(metric=&#x27;cosine&#x27;)</pre></div></div></div></div></div>"
      ],
      "text/plain": [
       "NearestNeighbors(metric='cosine')"
      ]
     },
     "execution_count": 11,
     "metadata": {},
     "output_type": "execute_result"
    }
   ],
   "source": [
    "# Approximate Nearest Neighbors with NearestNeighbors\n",
    "nn = NearestNeighbors(n_neighbors=5, algorithm='auto', metric='cosine')\n",
    "nn.fit(tfidf_matrix)"
   ]
  },
  {
   "cell_type": "code",
   "execution_count": 41,
   "metadata": {},
   "outputs": [],
   "source": [
    "# Collaborative Filtering (User-Item Interactions)\n",
    "user_movie_ratings = df.pivot_table(index='userId', columns='title', values='rating', fill_value=0)\n",
    "movie_user_ratings = user_movie_ratings.T\n",
    "movie_similarity = cosine_similarity(movie_user_ratings)"
   ]
  },
  {
   "cell_type": "code",
   "execution_count": 47,
   "metadata": {},
   "outputs": [
    {
     "name": "stdout",
     "output_type": "stream",
     "text": [
      "Accuracy: 100.00%\n"
     ]
    }
   ],
   "source": [
    "from sklearn.metrics.pairwise import cosine_similarity\n",
    "\n",
    "# Assuming movie_user_ratings is the user-item interaction matrix\n",
    "\n",
    "# Calculate cosine similarity between movies\n",
    "movie_similarity = cosine_similarity(movie_user_ratings)\n",
    "\n",
    "# Number of top recommendations to consider\n",
    "top_n = 5\n",
    "\n",
    "# Evaluate recommendations and compute accuracy\n",
    "correct_predictions = 0\n",
    "total_test_users = len(test_data['userId'].unique())\n",
    "\n",
    "for user_id in test_data['userId'].unique():\n",
    "    # Movies rated by the user in the test set\n",
    "    actual_preferences = test_data[test_data['userId'] == user_id]['title'].tolist()\n",
    "    \n",
    "    # Find similar movies based on cosine similarity\n",
    "    similar_movies_indices = movie_similarity[movie_user_ratings.index.get_loc(actual_preferences[0])].argsort()[:-top_n-1:-1]\n",
    "    recommended_movies = movie_user_ratings.iloc[similar_movies_indices].index.tolist()\n",
    "\n",
    "    # Check if any actual preferences are among recommended movies\n",
    "    for movie in actual_preferences:\n",
    "        if movie in recommended_movies:\n",
    "            correct_predictions += 1\n",
    "            break  # Break if at least one correct recommendation is found for the user\n",
    "\n",
    "accuracy_percentage = (correct_predictions / total_test_users) * 100\n",
    "print(f\"Accuracy: {accuracy_percentage:.2f}%\")"
   ]
  },
  {
   "cell_type": "code",
   "execution_count": 13,
   "metadata": {},
   "outputs": [],
   "source": [
    "# Function to get similar items based on NearestNeighbors\n",
    "def get_similar_items_nn(movie_index):\n",
    "    distances, indices = nn.kneighbors(tfidf_matrix[movie_index])\n",
    "    similar_items = df.iloc[indices[0]]['title'].tolist()\n",
    "    return similar_items"
   ]
  },
  {
   "cell_type": "code",
   "execution_count": 14,
   "metadata": {},
   "outputs": [],
   "source": [
    "# Function to get similar items based on Collaborative Filtering\n",
    "def get_similar_items_cf(movie_title, top_n=5):\n",
    "    movie_ratings = user_movie_ratings[movie_title].values.reshape(1, -1)\n",
    "    \n",
    "    # Calculate similarity scores using cosine_similarity\n",
    "    similar_scores = cosine_similarity(movie_ratings, movie_user_ratings)\n",
    "    \n",
    "    # Extract the similarity scores for the given movie\n",
    "    similarity_scores_for_movie = similar_scores.flatten()\n",
    "    \n",
    "    # Create a DataFrame with movie titles and similarity scores\n",
    "    similar_movies_df = pd.DataFrame({'movie': movie_user_ratings.index, 'similarity': similarity_scores_for_movie})\n",
    "    \n",
    "    # Sort by similarity and get the top N\n",
    "    similar_movies_df = similar_movies_df.sort_values(by='similarity', ascending=False).head(top_n)\n",
    "    \n",
    "    return similar_movies_df['movie'].tolist()"
   ]
  },
  {
   "cell_type": "code",
   "execution_count": 15,
   "metadata": {},
   "outputs": [],
   "source": [
    "# Function to get hybrid recommendations (combining CF and CB)\n",
    "def get_hybrid_recommendations(selected_movies, top_n=5):\n",
    "    cf_recommendations = Parallel(n_jobs=-1)(delayed(get_similar_items_cf)(movie_title, top_n=top_n) for movie_title in selected_movies)\n",
    "    cf_recommendations = [item for sublist in cf_recommendations for item in sublist]\n",
    "    \n",
    "    cb_recommendations = Parallel(n_jobs=-1)(delayed(get_similar_items_nn)(df[df['title'] == movie_title].index[0]) for movie_title in selected_movies)\n",
    "    cb_recommendations = [item for sublist in cb_recommendations for item in sublist]\n",
    "    \n",
    "    genre_filter = set().union(*(tuple(genre) for movie_title in selected_movies for genre in df[df['title'] == movie_title]['genres']))\n",
    "    cb_recommendations_filtered = [movie for movie in cb_recommendations if any(set(genre) & genre_filter for genre in df[df['title'] == movie]['genres'])]\n",
    "    \n",
    "    hybrid_recommendations = list(set(cf_recommendations + cb_recommendations_filtered))[:top_n]\n",
    "    \n",
    "    return hybrid_recommendations\n"
   ]
  },
  {
   "cell_type": "code",
   "execution_count": 34,
   "metadata": {},
   "outputs": [],
   "source": [
    "# Function to allow the user to choose movies from a random list\n",
    "def choose_movies():\n",
    "    random_movies = random.sample(df['title'].tolist(), 10)\n",
    "    \n",
    "    print(\"Choose up to 5 movies from the list:\")\n",
    "    selected_movies = []\n",
    "    count = 0\n",
    "    while count < 5:\n",
    "        print(f\"{count + 1}. {random_movies[count]}\")\n",
    "        choice = input(\"Enter 'yes' if you like this movie or 'no' if you don't: \").lower()\n",
    "        if choice == 'yes':\n",
    "            selected_movies.append(random_movies[count])\n",
    "            count += 1\n",
    "        elif choice == 'no':\n",
    "            random_movies.pop(count)\n",
    "            random_movies.append(random.choice(df['title'].tolist()))\n",
    "        elif choice != 'no':\n",
    "            print(\"Invalid choice. Please enter 'yes' or 'no'.\")\n",
    "    return selected_movies"
   ]
  },
  {
   "cell_type": "code",
   "execution_count": 35,
   "metadata": {},
   "outputs": [
    {
     "name": "stdout",
     "output_type": "stream",
     "text": [
      "Choose up to 5 movies from the list:\n",
      "1. Pursuit of Happyness, The (2006)\n",
      "Invalid choice. Please enter 'yes' or 'no'.\n",
      "1. Pursuit of Happyness, The (2006)\n",
      "2. Cyrano de Bergerac (1990)\n",
      "2. Candyman: Farewell to the Flesh (1995)\n",
      "Invalid choice. Please enter 'yes' or 'no'.\n",
      "2. Candyman: Farewell to the Flesh (1995)\n",
      "2. Batman Forever (1995)\n",
      "3. Shanghai Noon (2000)\n",
      "4. Untouchables, The (1987)\n",
      "4. To Live and Die in L.A. (1985)\n",
      "4. Gattaca (1997)\n",
      "Invalid choice. Please enter 'yes' or 'no'.\n",
      "4. Gattaca (1997)\n",
      "Invalid choice. Please enter 'yes' or 'no'.\n",
      "4. Gattaca (1997)\n",
      "4. Ernest Goes to Camp (1987)\n",
      "4. Goodfellas (1990)\n",
      "4. Million Dollar Baby (2004)\n",
      "5. Pulp Fiction (1994)\n",
      "Hybrid recommendations based on user-selected movies:\n",
      "['Fargo (1996)', '3:10 to Yuma (2007)', 'Donnie Darko (2001)', 'The Revenant (2015)', 'True Lies (1994)']\n"
     ]
    }
   ],
   "source": [
    "# Function to allow the user to redraw recommendations\n",
    "def redraw_recommendations():\n",
    "    while True:\n",
    "        selected_movies = choose_movies()\n",
    "        hybrid_recommendations = get_hybrid_recommendations(selected_movies, top_n=5)\n",
    "        print(f'Hybrid recommendations based on user-selected movies:\\n{hybrid_recommendations}')\n",
    "\n",
    "        redraw = input(\"Do you want to redraw recommendations? Enter 'yes' or 'no': \").lower()\n",
    "        if redraw != 'yes':\n",
    "            break\n",
    "\n",
    "# Call the function to start the recommendation process\n",
    "redraw_recommendations()"
   ]
  },
  {
   "cell_type": "code",
   "execution_count": 24,
   "metadata": {},
   "outputs": [],
   "source": [
    "df = temp"
   ]
  },
  {
   "cell_type": "code",
   "execution_count": 25,
   "metadata": {},
   "outputs": [
    {
     "ename": "KeyError",
     "evalue": "'userId'",
     "output_type": "error",
     "traceback": [
      "\u001b[1;31m---------------------------------------------------------------------------\u001b[0m",
      "\u001b[1;31mKeyError\u001b[0m                                  Traceback (most recent call last)",
      "\u001b[1;32mc:\\Users\\Thor\\Desktop\\HW\\Project_4_ML\\movie_ML.ipynb Cell 17\u001b[0m line \u001b[0;36m3\n\u001b[0;32m     <a href='vscode-notebook-cell:/c%3A/Users/Thor/Desktop/HW/Project_4_ML/movie_ML.ipynb#X35sZmlsZQ%3D%3D?line=32'>33</a>\u001b[0m     \u001b[39mreturn\u001b[39;00m avg_precision, avg_recall\n\u001b[0;32m     <a href='vscode-notebook-cell:/c%3A/Users/Thor/Desktop/HW/Project_4_ML/movie_ML.ipynb#X35sZmlsZQ%3D%3D?line=34'>35</a>\u001b[0m \u001b[39m# Example: Evaluating Collaborative Filtering (CF) recommendations\u001b[39;00m\n\u001b[1;32m---> <a href='vscode-notebook-cell:/c%3A/Users/Thor/Desktop/HW/Project_4_ML/movie_ML.ipynb#X35sZmlsZQ%3D%3D?line=35'>36</a>\u001b[0m avg_precision_cf, avg_recall_cf \u001b[39m=\u001b[39m evaluate_recommendations(get_similar_items_cf, test_data)\n\u001b[0;32m     <a href='vscode-notebook-cell:/c%3A/Users/Thor/Desktop/HW/Project_4_ML/movie_ML.ipynb#X35sZmlsZQ%3D%3D?line=36'>37</a>\u001b[0m \u001b[39mprint\u001b[39m(\u001b[39mf\u001b[39m\u001b[39m\"\u001b[39m\u001b[39mCollaborative Filtering - Avg Precision: \u001b[39m\u001b[39m{\u001b[39;00mavg_precision_cf\u001b[39m}\u001b[39;00m\u001b[39m, Avg Recall: \u001b[39m\u001b[39m{\u001b[39;00mavg_recall_cf\u001b[39m}\u001b[39;00m\u001b[39m\"\u001b[39m)\n\u001b[0;32m     <a href='vscode-notebook-cell:/c%3A/Users/Thor/Desktop/HW/Project_4_ML/movie_ML.ipynb#X35sZmlsZQ%3D%3D?line=38'>39</a>\u001b[0m \u001b[39m# Example: Evaluating Hybrid recommendations\u001b[39;00m\n",
      "\u001b[1;32mc:\\Users\\Thor\\Desktop\\HW\\Project_4_ML\\movie_ML.ipynb Cell 17\u001b[0m line \u001b[0;36m1\n\u001b[0;32m     <a href='vscode-notebook-cell:/c%3A/Users/Thor/Desktop/HW/Project_4_ML/movie_ML.ipynb#X35sZmlsZQ%3D%3D?line=10'>11</a>\u001b[0m \u001b[39mdef\u001b[39;00m \u001b[39mevaluate_recommendations\u001b[39m(recommendation_function, test_data, top_n\u001b[39m=\u001b[39m\u001b[39m5\u001b[39m):\n\u001b[1;32m---> <a href='vscode-notebook-cell:/c%3A/Users/Thor/Desktop/HW/Project_4_ML/movie_ML.ipynb#X35sZmlsZQ%3D%3D?line=11'>12</a>\u001b[0m     user_ids \u001b[39m=\u001b[39m test_data[\u001b[39m'\u001b[39;49m\u001b[39muserId\u001b[39;49m\u001b[39m'\u001b[39;49m]\u001b[39m.\u001b[39munique()\n\u001b[0;32m     <a href='vscode-notebook-cell:/c%3A/Users/Thor/Desktop/HW/Project_4_ML/movie_ML.ipynb#X35sZmlsZQ%3D%3D?line=12'>13</a>\u001b[0m     precision_scores \u001b[39m=\u001b[39m []\n\u001b[0;32m     <a href='vscode-notebook-cell:/c%3A/Users/Thor/Desktop/HW/Project_4_ML/movie_ML.ipynb#X35sZmlsZQ%3D%3D?line=13'>14</a>\u001b[0m     recall_scores \u001b[39m=\u001b[39m []\n",
      "File \u001b[1;32mn:\\Python3.11.4\\Lib\\site-packages\\pandas\\core\\frame.py:3761\u001b[0m, in \u001b[0;36mDataFrame.__getitem__\u001b[1;34m(self, key)\u001b[0m\n\u001b[0;32m   3759\u001b[0m \u001b[39mif\u001b[39;00m \u001b[39mself\u001b[39m\u001b[39m.\u001b[39mcolumns\u001b[39m.\u001b[39mnlevels \u001b[39m>\u001b[39m \u001b[39m1\u001b[39m:\n\u001b[0;32m   3760\u001b[0m     \u001b[39mreturn\u001b[39;00m \u001b[39mself\u001b[39m\u001b[39m.\u001b[39m_getitem_multilevel(key)\n\u001b[1;32m-> 3761\u001b[0m indexer \u001b[39m=\u001b[39m \u001b[39mself\u001b[39;49m\u001b[39m.\u001b[39;49mcolumns\u001b[39m.\u001b[39;49mget_loc(key)\n\u001b[0;32m   3762\u001b[0m \u001b[39mif\u001b[39;00m is_integer(indexer):\n\u001b[0;32m   3763\u001b[0m     indexer \u001b[39m=\u001b[39m [indexer]\n",
      "File \u001b[1;32mn:\\Python3.11.4\\Lib\\site-packages\\pandas\\core\\indexes\\range.py:349\u001b[0m, in \u001b[0;36mRangeIndex.get_loc\u001b[1;34m(self, key)\u001b[0m\n\u001b[0;32m    347\u001b[0m         \u001b[39mraise\u001b[39;00m \u001b[39mKeyError\u001b[39;00m(key) \u001b[39mfrom\u001b[39;00m \u001b[39merr\u001b[39;00m\n\u001b[0;32m    348\u001b[0m \u001b[39mif\u001b[39;00m \u001b[39misinstance\u001b[39m(key, Hashable):\n\u001b[1;32m--> 349\u001b[0m     \u001b[39mraise\u001b[39;00m \u001b[39mKeyError\u001b[39;00m(key)\n\u001b[0;32m    350\u001b[0m \u001b[39mself\u001b[39m\u001b[39m.\u001b[39m_check_indexing_error(key)\n\u001b[0;32m    351\u001b[0m \u001b[39mraise\u001b[39;00m \u001b[39mKeyError\u001b[39;00m(key)\n",
      "\u001b[1;31mKeyError\u001b[0m: 'userId'"
     ]
    }
   ],
   "source": [
    "import pandas as pd\n",
    "from sklearn.model_selection import train_test_split\n",
    "from sklearn.metrics import precision_score, recall_score\n",
    "\n",
    "# Assuming 'df' is your original DataFrame with user-item interactions\n",
    "\n",
    "# Splitting data into train and test sets\n",
    "train_data, test_data = train_test_split(df, test_size=0.2, random_state=42)\n",
    "\n",
    "# Function to evaluate recommendations\n",
    "def evaluate_recommendations(recommendation_function, test_data, top_n=5):\n",
    "    user_ids = test_data['userId'].unique()\n",
    "    precision_scores = []\n",
    "    recall_scores = []\n",
    "\n",
    "    for user_id in user_ids:\n",
    "        user_test_data = test_data[test_data['userId'] == user_id]\n",
    "        selected_movies = user_test_data['title'].tolist()\n",
    "\n",
    "        recommended_movies = recommendation_function(selected_movies, top_n=top_n)\n",
    "        \n",
    "        # Compare recommended movies with test data for this user\n",
    "        true_positives = len(set(selected_movies) & set(recommended_movies))\n",
    "        precision = true_positives / top_n\n",
    "        recall = true_positives / len(selected_movies) if len(selected_movies) > 0 else 0\n",
    "\n",
    "        precision_scores.append(precision)\n",
    "        recall_scores.append(recall)\n",
    "\n",
    "    avg_precision = sum(precision_scores) / len(precision_scores)\n",
    "    avg_recall = sum(recall_scores) / len(recall_scores)\n",
    "\n",
    "    return avg_precision, avg_recall\n",
    "\n",
    "# Example: Evaluating Collaborative Filtering (CF) recommendations\n",
    "avg_precision_cf, avg_recall_cf = evaluate_recommendations(get_similar_items_cf, test_data)\n",
    "print(f\"Collaborative Filtering - Avg Precision: {avg_precision_cf}, Avg Recall: {avg_recall_cf}\")\n",
    "\n",
    "# Example: Evaluating Hybrid recommendations\n",
    "avg_precision_hybrid, avg_recall_hybrid = evaluate_recommendations(get_hybrid_recommendations, test_data)\n",
    "print(f\"Hybrid Model - Avg Precision: {avg_precision_hybrid}, Avg Recall: {avg_recall_hybrid}\")\n"
   ]
  }
 ],
 "metadata": {
  "kernelspec": {
   "display_name": "Python 3",
   "language": "python",
   "name": "python3"
  },
  "language_info": {
   "codemirror_mode": {
    "name": "ipython",
    "version": 3
   },
   "file_extension": ".py",
   "mimetype": "text/x-python",
   "name": "python",
   "nbconvert_exporter": "python",
   "pygments_lexer": "ipython3",
   "version": "3.11.4"
  }
 },
 "nbformat": 4,
 "nbformat_minor": 2
}
